{
 "cells": [
  {
   "cell_type": "code",
   "execution_count": 33,
   "metadata": {},
   "outputs": [
    {
     "data": {
      "text/plain": [
       "(1.55, 26.99, 151462.5)"
      ]
     },
     "execution_count": 33,
     "metadata": {},
     "output_type": "execute_result"
    }
   ],
   "source": [
    "import numpy as np\n",
    "\n",
    "def gradient_descent(x,y):\n",
    "    #initialise\n",
    "    theta_0 = theta_1 = 0\n",
    "    iterations = 10000\n",
    "    n_features = len(x)\n",
    "    learning_rate = 0.05\n",
    "    for i in range(iterations):\n",
    "        #hypothesis\n",
    "        y_predicted = theta_1 * x + theta_0\n",
    "        \n",
    "        #cost calculation\n",
    "        cost = (1/2*n_features) * sum([val**2 for val in (y-y_predicted)])\n",
    "        \n",
    "        #find theta derivative \n",
    "        theta_0_deri = -(1/n_features)*sum(y-y_predicted)\n",
    "        theta_1_deri = -(1/n_features)*sum((y-y_predicted)*x)\n",
    "                \n",
    "        #update theta_0 and theta_1\n",
    "        theta_0 = theta_0 - learning_rate * theta_0_deri\n",
    "        theta_1 = theta_1 - learning_rate * theta_1_deri\n",
    "        \n",
    "        #print(f'{theta_0}, {theta_1}, Cost{cost}')\n",
    "        return (theta_0, theta_1, cost)\n",
    "        \n",
    "\n",
    "x = np.array([1, 2, 3, 4, 5, 6, 8, 10, 14, 15, 17, 19, 22, 26, 28])\n",
    "y = np.array([5,7, 9, 11, 13, 20, 23, 28, 36, 40, 44, 50, 56, 60, 63])\n",
    "\n",
    "gradient_descent(x,y)\n",
    "\n"
   ]
  },
  {
   "cell_type": "code",
   "execution_count": 1,
   "metadata": {},
   "outputs": [],
   "source": []
  },
  {
   "cell_type": "code",
   "execution_count": null,
   "metadata": {},
   "outputs": [],
   "source": []
  },
  {
   "cell_type": "code",
   "execution_count": null,
   "metadata": {},
   "outputs": [],
   "source": []
  },
  {
   "cell_type": "code",
   "execution_count": null,
   "metadata": {
    "scrolled": true
   },
   "outputs": [],
   "source": []
  },
  {
   "cell_type": "code",
   "execution_count": null,
   "metadata": {},
   "outputs": [],
   "source": []
  }
 ],
 "metadata": {
  "kernelspec": {
   "display_name": "Python 3",
   "language": "python",
   "name": "python3"
  },
  "language_info": {
   "codemirror_mode": {
    "name": "ipython",
    "version": 3
   },
   "file_extension": ".py",
   "mimetype": "text/x-python",
   "name": "python",
   "nbconvert_exporter": "python",
   "pygments_lexer": "ipython3",
   "version": "3.6.5"
  }
 },
 "nbformat": 4,
 "nbformat_minor": 4
}
