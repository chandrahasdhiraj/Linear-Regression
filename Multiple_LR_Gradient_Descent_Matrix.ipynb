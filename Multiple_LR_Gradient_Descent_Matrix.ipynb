{
 "cells": [
  {
   "cell_type": "code",
   "execution_count": 1,
   "metadata": {},
   "outputs": [],
   "source": [
    "import numpy as np\n",
    "import pandas as pd\n",
    "import matplotlib.pyplot as plt\n",
    "from mpl_toolkits.mplot3d import Axes3D"
   ]
  },
  {
   "cell_type": "code",
   "execution_count": 2,
   "metadata": {},
   "outputs": [],
   "source": [
    "def cost_function(X, y, theta):\n",
    "    m = y.size\n",
    "    error = np.dot(X, theta.T) - y\n",
    "    cost = 1/(2*m) * np.dot(error.T, error)\n",
    "    return cost, error"
   ]
  },
  {
   "cell_type": "code",
   "execution_count": 3,
   "metadata": {},
   "outputs": [],
   "source": [
    "def gradient_descent(X, y, theta, alpha, iters):\n",
    "    cost_array = np.zeros(iters)\n",
    "    m = y.size\n",
    "    for i in range(iters):\n",
    "        cost, error = cost_function(X, y, theta)\n",
    "        theta = theta - (alpha * (1/m) * np.dot(X.T, error))\n",
    "        cost_array[i] = cost\n",
    "    return theta, cost_array"
   ]
  },
  {
   "cell_type": "code",
   "execution_count": 4,
   "metadata": {},
   "outputs": [],
   "source": [
    "def plotChart(iterations, cost_num):\n",
    "    fig, ax = plt.subplots()\n",
    "    ax.plot(np.arange(iterations), cost_num, 'r')\n",
    "    ax.set_xlabel('Iterations')\n",
    "    ax.set_ylabel('Cost')\n",
    "    ax.set_title('Error vs Iterations')\n",
    "    plt.style.use('fivethirtyeight')\n",
    "    plt.show()"
   ]
  },
  {
   "cell_type": "code",
   "execution_count": 5,
   "metadata": {},
   "outputs": [
    {
     "name": "stdout",
     "output_type": "stream",
     "text": [
      "With initial theta values of [0. 0. 0.], cost error is 65591548106.45744\n"
     ]
    },
    {
     "data": {
      "image/png": "[encoded data removed]",
      "text/plain": [
       "<Figure size 432x288 with 1 Axes>"
      ]
     },
     "metadata": {
      "needs_background": "light"
     },
     "output_type": "display_data"
    },
    {
     "name": "stdout",
     "output_type": "stream",
     "text": [
      "With final theta values of [340397.96353532 109848.00846026  -5866.45408497], cost error is 2043544218.7812898\n"
     ]
    }
   ],
   "source": [
    "def run():\n",
    "    # Import data\n",
    "    data = pd.read_csv('multivariate-linear-regression-master\\house_practice.csv')\n",
    "\n",
    "    # Extract data into X and y\n",
    "    X = data[['Size', 'Bedrooms']]\n",
    "    y = data['Price']\n",
    "\n",
    "    # Normalize our features\n",
    "    X = (X - X.mean()) / X.std()\n",
    "\n",
    "    # Add a 1 column to the start to allow vectorized gradient descent\n",
    "    X = np.c_[np.ones(X.shape[0]), X] \n",
    "\n",
    "    # Set hyperparameters\n",
    "    alpha = 0.01\n",
    "    iterations = 1000\n",
    "\n",
    "    # Initialize Theta Values to 0\n",
    "    theta = np.zeros(X.shape[1])\n",
    "    initial_cost, _ = cost_function(X, y, theta)\n",
    "\n",
    "    print('With initial theta values of {0}, cost error is {1}'.format(theta, initial_cost))\n",
    "\n",
    "    # Run Gradient Descent\n",
    "    theta, cost_num = gradient_descent(X, y, theta, alpha, iterations)\n",
    "\n",
    "    # Display cost chart\n",
    "    plotChart(iterations, cost_num)\n",
    "\n",
    "    final_cost, _ = cost_function(X, y, theta)\n",
    "\n",
    "    print('With final theta values of {0}, cost error is {1}'.format(theta, final_cost))\n",
    "\n",
    "if __name__ == \"__main__\":\n",
    "    run()"
   ]
  }
 ],
 "metadata": {
  "kernelspec": {
   "display_name": "Python 3",
   "language": "python",
   "name": "python3"
  },
  "language_info": {
   "codemirror_mode": {
    "name": "ipython",
    "version": 3
   },
   "file_extension": ".py",
   "mimetype": "text/x-python",
   "name": "python",
   "nbconvert_exporter": "python",
   "pygments_lexer": "ipython3",
   "version": "3.6.5"
  }
 },
 "nbformat": 4,
 "nbformat_minor": 4
}
